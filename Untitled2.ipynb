{
 "cells": [
  {
   "cell_type": "code",
   "execution_count": 1,
   "metadata": {},
   "outputs": [],
   "source": [
    "import numpy as np \n",
    "import pandas as pd\n",
    "import matplotlib.pyplot as plt\n",
    "import seaborn as sns\n",
    "import warnings\n",
    "warnings.filterwarnings('ignore')"
   ]
  },
  {
   "cell_type": "code",
   "execution_count": 2,
   "metadata": {},
   "outputs": [
    {
     "data": {
      "text/html": [
       "<div>\n",
       "<style scoped>\n",
       "    .dataframe tbody tr th:only-of-type {\n",
       "        vertical-align: middle;\n",
       "    }\n",
       "\n",
       "    .dataframe tbody tr th {\n",
       "        vertical-align: top;\n",
       "    }\n",
       "\n",
       "    .dataframe thead th {\n",
       "        text-align: right;\n",
       "    }\n",
       "</style>\n",
       "<table border=\"1\" class=\"dataframe\">\n",
       "  <thead>\n",
       "    <tr style=\"text-align: right;\">\n",
       "      <th></th>\n",
       "      <th>Store</th>\n",
       "      <th>Day</th>\n",
       "      <th>Month</th>\n",
       "      <th>Year</th>\n",
       "      <th>Dry_Grocery</th>\n",
       "      <th>Dairy</th>\n",
       "      <th>Frozen_Food</th>\n",
       "      <th>Meat</th>\n",
       "      <th>Produce</th>\n",
       "      <th>Floral</th>\n",
       "      <th>Deli</th>\n",
       "      <th>Bakery</th>\n",
       "      <th>General_Merchandise</th>\n",
       "    </tr>\n",
       "  </thead>\n",
       "  <tbody>\n",
       "    <tr>\n",
       "      <th>116227</th>\n",
       "      <td>S0085</td>\n",
       "      <td>27</td>\n",
       "      <td>12</td>\n",
       "      <td>2014</td>\n",
       "      <td>19937.84</td>\n",
       "      <td>5832.48</td>\n",
       "      <td>3257.12</td>\n",
       "      <td>4670.09</td>\n",
       "      <td>5068.66</td>\n",
       "      <td>500.45</td>\n",
       "      <td>1512.22</td>\n",
       "      <td>1776.07</td>\n",
       "      <td>2781.86</td>\n",
       "    </tr>\n",
       "    <tr>\n",
       "      <th>116228</th>\n",
       "      <td>S0085</td>\n",
       "      <td>28</td>\n",
       "      <td>12</td>\n",
       "      <td>2014</td>\n",
       "      <td>18328.18</td>\n",
       "      <td>5234.87</td>\n",
       "      <td>3277.48</td>\n",
       "      <td>5531.04</td>\n",
       "      <td>4799.04</td>\n",
       "      <td>150.17</td>\n",
       "      <td>1460.27</td>\n",
       "      <td>1719.40</td>\n",
       "      <td>2113.44</td>\n",
       "    </tr>\n",
       "    <tr>\n",
       "      <th>116229</th>\n",
       "      <td>S0085</td>\n",
       "      <td>29</td>\n",
       "      <td>12</td>\n",
       "      <td>2014</td>\n",
       "      <td>18037.09</td>\n",
       "      <td>5197.56</td>\n",
       "      <td>3282.46</td>\n",
       "      <td>5324.82</td>\n",
       "      <td>4704.44</td>\n",
       "      <td>168.80</td>\n",
       "      <td>1311.87</td>\n",
       "      <td>1797.02</td>\n",
       "      <td>2316.13</td>\n",
       "    </tr>\n",
       "    <tr>\n",
       "      <th>116230</th>\n",
       "      <td>S0085</td>\n",
       "      <td>30</td>\n",
       "      <td>12</td>\n",
       "      <td>2014</td>\n",
       "      <td>22054.98</td>\n",
       "      <td>6416.92</td>\n",
       "      <td>4127.87</td>\n",
       "      <td>7303.82</td>\n",
       "      <td>6298.13</td>\n",
       "      <td>296.88</td>\n",
       "      <td>1956.34</td>\n",
       "      <td>2136.44</td>\n",
       "      <td>1953.44</td>\n",
       "    </tr>\n",
       "    <tr>\n",
       "      <th>116231</th>\n",
       "      <td>S0085</td>\n",
       "      <td>31</td>\n",
       "      <td>12</td>\n",
       "      <td>2014</td>\n",
       "      <td>28148.01</td>\n",
       "      <td>8203.14</td>\n",
       "      <td>4998.97</td>\n",
       "      <td>8781.01</td>\n",
       "      <td>8171.92</td>\n",
       "      <td>626.79</td>\n",
       "      <td>3281.22</td>\n",
       "      <td>3592.13</td>\n",
       "      <td>3123.30</td>\n",
       "    </tr>\n",
       "  </tbody>\n",
       "</table>\n",
       "</div>"
      ],
      "text/plain": [
       "        Store  Day  Month  Year  Dry_Grocery    Dairy  Frozen_Food     Meat  \\\n",
       "116227  S0085   27     12  2014     19937.84  5832.48      3257.12  4670.09   \n",
       "116228  S0085   28     12  2014     18328.18  5234.87      3277.48  5531.04   \n",
       "116229  S0085   29     12  2014     18037.09  5197.56      3282.46  5324.82   \n",
       "116230  S0085   30     12  2014     22054.98  6416.92      4127.87  7303.82   \n",
       "116231  S0085   31     12  2014     28148.01  8203.14      4998.97  8781.01   \n",
       "\n",
       "        Produce  Floral     Deli   Bakery  General_Merchandise  \n",
       "116227  5068.66  500.45  1512.22  1776.07              2781.86  \n",
       "116228  4799.04  150.17  1460.27  1719.40              2113.44  \n",
       "116229  4704.44  168.80  1311.87  1797.02              2316.13  \n",
       "116230  6298.13  296.88  1956.34  2136.44              1953.44  \n",
       "116231  8171.92  626.79  3281.22  3592.13              3123.30  "
      ]
     },
     "execution_count": 2,
     "metadata": {},
     "output_type": "execute_result"
    }
   ],
   "source": [
    "df  = pd.read_csv('storesalesdata.csv')\n",
    "df.tail()"
   ]
  },
  {
   "cell_type": "code",
   "execution_count": 3,
   "metadata": {},
   "outputs": [],
   "source": [
    "df.drop(['Day','Dry_Grocery','Dairy','Frozen_Food','Meat','Floral','Deli','Bakery','General_Merchandise'],axis=1,inplace=True)"
   ]
  },
  {
   "cell_type": "code",
   "execution_count": 4,
   "metadata": {},
   "outputs": [],
   "source": [
    "new = df.groupby(['Year','Month'], as_index=False).sum()"
   ]
  },
  {
   "cell_type": "code",
   "execution_count": 5,
   "metadata": {},
   "outputs": [],
   "source": [
    "new['DATE'] = pd.to_datetime(new[['Year', 'Month']].assign(DAY=1))\n",
    "new.drop(['Year','Month'],axis=1,inplace=True)"
   ]
  },
  {
   "cell_type": "code",
   "execution_count": 6,
   "metadata": {},
   "outputs": [],
   "source": [
    "new.DATE = pd.to_datetime(new.DATE)"
   ]
  },
  {
   "cell_type": "code",
   "execution_count": 7,
   "metadata": {},
   "outputs": [],
   "source": [
    "new = new[['DATE','Produce']]"
   ]
  },
  {
   "cell_type": "code",
   "execution_count": 8,
   "metadata": {},
   "outputs": [],
   "source": [
    "old = new.iloc[-6:]"
   ]
  },
  {
   "cell_type": "code",
   "execution_count": 9,
   "metadata": {},
   "outputs": [],
   "source": [
    "new.drop(new.tail(6).index,\n",
    "        inplace = True)"
   ]
  },
  {
   "cell_type": "code",
   "execution_count": 10,
   "metadata": {},
   "outputs": [
    {
     "data": {
      "text/html": [
       "<div>\n",
       "<style scoped>\n",
       "    .dataframe tbody tr th:only-of-type {\n",
       "        vertical-align: middle;\n",
       "    }\n",
       "\n",
       "    .dataframe tbody tr th {\n",
       "        vertical-align: top;\n",
       "    }\n",
       "\n",
       "    .dataframe thead th {\n",
       "        text-align: right;\n",
       "    }\n",
       "</style>\n",
       "<table border=\"1\" class=\"dataframe\">\n",
       "  <thead>\n",
       "    <tr style=\"text-align: right;\">\n",
       "      <th></th>\n",
       "      <th>DATE</th>\n",
       "      <th>Produce</th>\n",
       "    </tr>\n",
       "  </thead>\n",
       "  <tbody>\n",
       "    <tr>\n",
       "      <th>35</th>\n",
       "      <td>2015-02-01</td>\n",
       "      <td>19772333.34</td>\n",
       "    </tr>\n",
       "    <tr>\n",
       "      <th>36</th>\n",
       "      <td>2015-03-01</td>\n",
       "      <td>24608406.71</td>\n",
       "    </tr>\n",
       "    <tr>\n",
       "      <th>37</th>\n",
       "      <td>2015-04-01</td>\n",
       "      <td>21559729.45</td>\n",
       "    </tr>\n",
       "    <tr>\n",
       "      <th>38</th>\n",
       "      <td>2015-05-01</td>\n",
       "      <td>25792074.59</td>\n",
       "    </tr>\n",
       "    <tr>\n",
       "      <th>39</th>\n",
       "      <td>2015-06-01</td>\n",
       "      <td>27212464.15</td>\n",
       "    </tr>\n",
       "  </tbody>\n",
       "</table>\n",
       "</div>"
      ],
      "text/plain": [
       "         DATE      Produce\n",
       "35 2015-02-01  19772333.34\n",
       "36 2015-03-01  24608406.71\n",
       "37 2015-04-01  21559729.45\n",
       "38 2015-05-01  25792074.59\n",
       "39 2015-06-01  27212464.15"
      ]
     },
     "execution_count": 10,
     "metadata": {},
     "output_type": "execute_result"
    }
   ],
   "source": [
    "new.tail()"
   ]
  },
  {
   "cell_type": "code",
   "execution_count": 287,
   "metadata": {},
   "outputs": [
    {
     "data": {
      "text/html": [
       "<div>\n",
       "<style scoped>\n",
       "    .dataframe tbody tr th:only-of-type {\n",
       "        vertical-align: middle;\n",
       "    }\n",
       "\n",
       "    .dataframe tbody tr th {\n",
       "        vertical-align: top;\n",
       "    }\n",
       "\n",
       "    .dataframe thead th {\n",
       "        text-align: right;\n",
       "    }\n",
       "</style>\n",
       "<table border=\"1\" class=\"dataframe\">\n",
       "  <thead>\n",
       "    <tr style=\"text-align: right;\">\n",
       "      <th></th>\n",
       "      <th>DATE</th>\n",
       "      <th>Produce</th>\n",
       "    </tr>\n",
       "  </thead>\n",
       "  <tbody>\n",
       "    <tr>\n",
       "      <th>40</th>\n",
       "      <td>2015-07-01</td>\n",
       "      <td>26338477.15</td>\n",
       "    </tr>\n",
       "    <tr>\n",
       "      <th>41</th>\n",
       "      <td>2015-08-01</td>\n",
       "      <td>23130626.60</td>\n",
       "    </tr>\n",
       "    <tr>\n",
       "      <th>42</th>\n",
       "      <td>2015-09-01</td>\n",
       "      <td>20774415.93</td>\n",
       "    </tr>\n",
       "    <tr>\n",
       "      <th>43</th>\n",
       "      <td>2015-10-01</td>\n",
       "      <td>20359980.58</td>\n",
       "    </tr>\n",
       "    <tr>\n",
       "      <th>44</th>\n",
       "      <td>2015-11-01</td>\n",
       "      <td>21936906.81</td>\n",
       "    </tr>\n",
       "    <tr>\n",
       "      <th>45</th>\n",
       "      <td>2015-12-01</td>\n",
       "      <td>20462899.30</td>\n",
       "    </tr>\n",
       "  </tbody>\n",
       "</table>\n",
       "</div>"
      ],
      "text/plain": [
       "         DATE      Produce\n",
       "40 2015-07-01  26338477.15\n",
       "41 2015-08-01  23130626.60\n",
       "42 2015-09-01  20774415.93\n",
       "43 2015-10-01  20359980.58\n",
       "44 2015-11-01  21936906.81\n",
       "45 2015-12-01  20462899.30"
      ]
     },
     "execution_count": 287,
     "metadata": {},
     "output_type": "execute_result"
    }
   ],
   "source": [
    "old.head(10)"
   ]
  },
  {
   "cell_type": "code",
   "execution_count": 288,
   "metadata": {},
   "outputs": [],
   "source": [
    "# new.to_excel('fuckyou.xlsx')"
   ]
  },
  {
   "cell_type": "code",
   "execution_count": 289,
   "metadata": {},
   "outputs": [],
   "source": [
    "# new.to_excel('shit.xlsx')"
   ]
  },
  {
   "cell_type": "code",
   "execution_count": 290,
   "metadata": {},
   "outputs": [
    {
     "data": {
      "text/plain": [
       "<matplotlib.legend.Legend at 0x1a88a6acc18>"
      ]
     },
     "execution_count": 290,
     "metadata": {},
     "output_type": "execute_result"
    },
    {
     "data": {
      "image/png": "[encoded data removed]",
      "text/plain": [
       "<Figure size 432x288 with 1 Axes>"
      ]
     },
     "metadata": {
      "needs_background": "light"
     },
     "output_type": "display_data"
    }
   ],
   "source": [
    "timeseries = new['Produce']\n",
    "timeseries.rolling(12).mean().plot(label='12 Month Rolling Mean')\n",
    "timeseries.rolling(12).std().plot(label='12 Month Rolling Std')\n",
    "timeseries.plot()\n",
    "plt.legend()"
   ]
  },
  {
   "cell_type": "code",
   "execution_count": 291,
   "metadata": {},
   "outputs": [
    {
     "data": {
      "text/plain": [
       "<Figure size 432x288 with 0 Axes>"
      ]
     },
     "metadata": {},
     "output_type": "display_data"
    },
    {
     "data": {
      "image/png": "[encoded data removed]",
      "text/plain": [
       "<Figure size 576x576 with 4 Axes>"
      ]
     },
     "metadata": {
      "needs_background": "light"
     },
     "output_type": "display_data"
    }
   ],
   "source": [
    "from statsmodels.tsa.seasonal import seasonal_decompose\n",
    "decomposition = seasonal_decompose(new['Produce'], freq=12)  \n",
    "figure = plt.figure()  \n",
    "figure = decomposition.plot()  \n",
    "figure.set_size_inches(8, 8)\n"
   ]
  },
  {
   "cell_type": "code",
   "execution_count": 292,
   "metadata": {},
   "outputs": [
    {
     "name": "stdout",
     "output_type": "stream",
     "text": [
      "ADF Test:\n",
      "ADF Statistic: -2.7935533984729757\n",
      "p-value: 0.05920053601744338\n",
      "No. of Lags Used: 9\n",
      "Number of Observations Used: 30\n",
      "Fail to reject H0 thereby data is non-stationary \n"
     ]
    }
   ],
   "source": [
    "from statsmodels.tsa.stattools import adfuller\n",
    "test_result = adfuller(new['Produce'])\n",
    "print ('ADF Test:')\n",
    "labels = ['ADF Statistic','p-value','No. of Lags Used','Number of Observations Used']\n",
    "\n",
    "for value,label in zip(test_result,labels):\n",
    "    print(label+': '+str(value))\n",
    "if test_result[1] <= 0.05:\n",
    "    print(\"Reject null hypothesis and data is stationary\")\n",
    "else:\n",
    "    print(\"Fail to reject H0 thereby data is non-stationary \")"
   ]
  },
  {
   "cell_type": "code",
   "execution_count": 293,
   "metadata": {},
   "outputs": [],
   "source": [
    "def check_adf(time_series):\n",
    "    test_result = adfuller(timeseries)\n",
    "    print('ADF Test:')\n",
    "    labels = ['ADF Statistic','p-value','No. of Lags Used','Number of Observations Used']\n",
    "    for value,label in zip(test_result,labels):\n",
    "        print (label+': '+str(value))\n",
    "    if test_result [1] <= 0.05:\n",
    "        print (\"Reject null hypothesis and data is stationary\")\n",
    "    else:\n",
    "        print (\"fail to reject H0 and data is non-stationary \")"
   ]
  },
  {
   "cell_type": "code",
   "execution_count": 294,
   "metadata": {},
   "outputs": [
    {
     "name": "stdout",
     "output_type": "stream",
     "text": [
      "ADF Test:\n",
      "ADF Statistic: -2.7935533984729757\n",
      "p-value: 0.05920053601744338\n",
      "No. of Lags Used: 9\n",
      "Number of Observations Used: 30\n",
      "fail to reject H0 and data is non-stationary \n"
     ]
    }
   ],
   "source": [
    "new['Produce First Difference'] = new['Produce'] - new['Produce'].shift(1)\n",
    "check_adf(new['Produce First Difference'].dropna())"
   ]
  },
  {
   "cell_type": "code",
   "execution_count": 295,
   "metadata": {},
   "outputs": [
    {
     "data": {
      "text/plain": [
       "<matplotlib.axes._subplots.AxesSubplot at 0x1a88be7dc88>"
      ]
     },
     "execution_count": 295,
     "metadata": {},
     "output_type": "execute_result"
    },
    {
     "data": {
      "image/png": "[encoded data removed]",
      "text/plain": [
       "<Figure size 432x288 with 1 Axes>"
      ]
     },
     "metadata": {
      "needs_background": "light"
     },
     "output_type": "display_data"
    }
   ],
   "source": [
    "new['Produce First Difference'].plot()"
   ]
  },
  {
   "cell_type": "code",
   "execution_count": 296,
   "metadata": {},
   "outputs": [
    {
     "data": {
      "image/png": "[encoded data removed]",
      "text/plain": [
       "<Figure size 432x288 with 1 Axes>"
      ]
     },
     "metadata": {
      "needs_background": "light"
     },
     "output_type": "display_data"
    }
   ],
   "source": [
    "from statsmodels.graphics.tsaplots import plot_acf\n",
    "fig_first = plot_acf(new[\"Produce First Difference\"].dropna())"
   ]
  },
  {
   "cell_type": "code",
   "execution_count": 329,
   "metadata": {},
   "outputs": [
    {
     "data": {
      "image/png": "[encoded data removed]",
      "text/plain": [
       "<Figure size 864x432 with 2 Axes>"
      ]
     },
     "metadata": {
      "needs_background": "light"
     },
     "output_type": "display_data"
    }
   ],
   "source": [
    "from statsmodels.graphics.tsaplots import plot_acf, plot_pacf\n",
    "\n",
    "fig, ax = plt.subplots(2, figsize=(12,6))\n",
    "ax[0] = plot_acf(new['Produce First Difference'].dropna(), ax=ax[0], lags=30)\n",
    "ax[1] = plot_pacf(new['Produce First Difference'].dropna(), ax=ax[1], lags=30)"
   ]
  },
  {
   "cell_type": "code",
   "execution_count": 330,
   "metadata": {},
   "outputs": [
    {
     "name": "stdout",
     "output_type": "stream",
     "text": [
      "                                 Statespace Model Results                                 \n",
      "==========================================================================================\n",
      "Dep. Variable:                            Produce   No. Observations:                   40\n",
      "Model:             SARIMAX(0, 1, 1)x(1, 1, 0, 12)   Log Likelihood                -428.210\n",
      "Date:                            Fri, 09 Apr 2021   AIC                            862.421\n",
      "Time:                                    17:18:39   BIC                            866.308\n",
      "Sample:                                         0   HQIC                           863.577\n",
      "                                             - 40                                         \n",
      "Covariance Type:                              opg                                         \n",
      "==============================================================================\n",
      "                 coef    std err          z      P>|z|      [0.025      0.975]\n",
      "------------------------------------------------------------------------------\n",
      "ma.L1         -0.0331      0.109     -0.304      0.761      -0.247       0.181\n",
      "ar.S.L12      -0.0632      0.055     -1.147      0.252      -0.171       0.045\n",
      "sigma2      3.059e+12   7.92e-16   3.86e+27      0.000    3.06e+12    3.06e+12\n",
      "===================================================================================\n",
      "Ljung-Box (Q):                       34.17   Jarque-Bera (JB):                 2.28\n",
      "Prob(Q):                              0.13   Prob(JB):                         0.32\n",
      "Heteroskedasticity (H):               1.35   Skew:                            -0.00\n",
      "Prob(H) (two-sided):                  0.66   Kurtosis:                         1.58\n",
      "===================================================================================\n",
      "\n",
      "Warnings:\n",
      "[1] Covariance matrix calculated using the outer product of gradients (complex-step).\n",
      "[2] Covariance matrix is singular or near-singular, with condition number    inf. Standard errors may be unstable.\n"
     ]
    }
   ],
   "source": [
    "import statsmodels.api as sm\n",
    "model = sm.tsa.statespace.SARIMAX(new['Produce'],order=(0,1,1), seasonal_order=(1,1,0,12))\n",
    "ARIMAresult = model.fit()\n",
    "\n",
    "print(ARIMAresult.summary())"
   ]
  },
  {
   "cell_type": "code",
   "execution_count": 331,
   "metadata": {},
   "outputs": [],
   "source": [
    "p_ahead = 6\n",
    "fits = ARIMAresult.forecast(p_ahead)"
   ]
  },
  {
   "cell_type": "code",
   "execution_count": 369,
   "metadata": {},
   "outputs": [
    {
     "data": {
      "image/png": "[encoded data removed]",
      "text/plain": [
       "<Figure size 432x288 with 1 Axes>"
      ]
     },
     "metadata": {
      "needs_background": "light"
     },
     "output_type": "display_data"
    }
   ],
   "source": [
    "plt.plot(new['Produce'], label='Existing Store')\n",
    "plt.plot(ARIMAresult.fittedvalues, label='y_smooth')\n",
    "plt.plot(fits, label='y_hat')\n",
    "plt.legend()\n",
    "plt.show()"
   ]
  },
  {
   "cell_type": "code",
   "execution_count": null,
   "metadata": {},
   "outputs": [],
   "source": []
  },
  {
   "cell_type": "code",
   "execution_count": 333,
   "metadata": {},
   "outputs": [],
   "source": [
    "from statsmodels.tsa.holtwinters import ExponentialSmoothing\n",
    "\n",
    "# our guessed parameters\n",
    "alpha = 0.4\n",
    "beta = 0.2\n",
    "gamma = 0.01\n",
    "\n",
    "# initialise model\n",
    "ets_model = ExponentialSmoothing(new['Produce'], trend='add', seasonal='add', seasonal_periods=12)\n",
    "#ets_fit = ets_model.fit(smoothing_level=alpha, smoothing_slope=beta, smoothing_seasonal=gamma)\n",
    "ets_fit = ets_model.fit(optimized=True)\n"
   ]
  },
  {
   "cell_type": "code",
   "execution_count": 334,
   "metadata": {},
   "outputs": [],
   "source": [
    "data = {'trend':'add', 'seasonal': 'add', 'seasonal_periods': '12',}"
   ]
  },
  {
   "cell_type": "code",
   "execution_count": 335,
   "metadata": {},
   "outputs": [],
   "source": [
    "fuckyoume = HoltWintersResults(ets_fit, params=data)"
   ]
  },
  {
   "cell_type": "code",
   "execution_count": 336,
   "metadata": {},
   "outputs": [
    {
     "name": "stdout",
     "output_type": "stream",
     "text": [
      "None\n"
     ]
    }
   ],
   "source": [
    "print(ets_fit.summary())"
   ]
  },
  {
   "cell_type": "code",
   "execution_count": 337,
   "metadata": {},
   "outputs": [],
   "source": [
    "p_ahead = 6\n",
    "yh = ets_fit.forecast(p_ahead)"
   ]
  },
  {
   "cell_type": "code",
   "execution_count": 338,
   "metadata": {},
   "outputs": [
    {
     "data": {
      "image/png": "[encoded data removed]",
      "text/plain": [
       "<Figure size 432x288 with 1 Axes>"
      ]
     },
     "metadata": {
      "needs_background": "light"
     },
     "output_type": "display_data"
    }
   ],
   "source": [
    "plt.plot(new['Produce'], label='Existing Store')\n",
    "plt.plot(ets_fit.fittedvalues, label='y_smooth')\n",
    "plt.plot(yh, label='y_hat')\n",
    "plt.legend()\n",
    "plt.show()"
   ]
  },
  {
   "cell_type": "code",
   "execution_count": 339,
   "metadata": {},
   "outputs": [],
   "source": [
    "ETS_p = pd.DataFrame(yh)"
   ]
  },
  {
   "cell_type": "code",
   "execution_count": 340,
   "metadata": {},
   "outputs": [],
   "source": [
    "ETS_p.rename(columns={0 : 'ETS Forecast'},inplace=True)"
   ]
  },
  {
   "cell_type": "code",
   "execution_count": 341,
   "metadata": {},
   "outputs": [],
   "source": [
    "ARIMA_p = pd.DataFrame(fits)"
   ]
  },
  {
   "cell_type": "code",
   "execution_count": 342,
   "metadata": {},
   "outputs": [],
   "source": [
    "ARIMA_p.rename(columns={0 : 'ARIMA Forecast'}, inplace=True)"
   ]
  },
  {
   "cell_type": "code",
   "execution_count": null,
   "metadata": {},
   "outputs": [],
   "source": []
  },
  {
   "cell_type": "code",
   "execution_count": 343,
   "metadata": {},
   "outputs": [],
   "source": [
    "old.rename(columns={'Produce': 'Actual'},inplace=True)"
   ]
  },
  {
   "cell_type": "code",
   "execution_count": 344,
   "metadata": {},
   "outputs": [],
   "source": [
    "f = old.join(ARIMA_p)"
   ]
  },
  {
   "cell_type": "code",
   "execution_count": 345,
   "metadata": {},
   "outputs": [
    {
     "data": {
      "text/html": [
       "<div>\n",
       "<style scoped>\n",
       "    .dataframe tbody tr th:only-of-type {\n",
       "        vertical-align: middle;\n",
       "    }\n",
       "\n",
       "    .dataframe tbody tr th {\n",
       "        vertical-align: top;\n",
       "    }\n",
       "\n",
       "    .dataframe thead th {\n",
       "        text-align: right;\n",
       "    }\n",
       "</style>\n",
       "<table border=\"1\" class=\"dataframe\">\n",
       "  <thead>\n",
       "    <tr style=\"text-align: right;\">\n",
       "      <th></th>\n",
       "      <th>DATE</th>\n",
       "      <th>Actual</th>\n",
       "      <th>ARIMA Forecast</th>\n",
       "    </tr>\n",
       "  </thead>\n",
       "  <tbody>\n",
       "    <tr>\n",
       "      <th>40</th>\n",
       "      <td>2015-07-01</td>\n",
       "      <td>26338477.15</td>\n",
       "      <td>2.677518e+07</td>\n",
       "    </tr>\n",
       "    <tr>\n",
       "      <th>41</th>\n",
       "      <td>2015-08-01</td>\n",
       "      <td>23130626.60</td>\n",
       "      <td>2.427706e+07</td>\n",
       "    </tr>\n",
       "    <tr>\n",
       "      <th>42</th>\n",
       "      <td>2015-09-01</td>\n",
       "      <td>20774415.93</td>\n",
       "      <td>2.094802e+07</td>\n",
       "    </tr>\n",
       "    <tr>\n",
       "      <th>43</th>\n",
       "      <td>2015-10-01</td>\n",
       "      <td>20359980.58</td>\n",
       "      <td>2.183642e+07</td>\n",
       "    </tr>\n",
       "    <tr>\n",
       "      <th>44</th>\n",
       "      <td>2015-11-01</td>\n",
       "      <td>21936906.81</td>\n",
       "      <td>2.186235e+07</td>\n",
       "    </tr>\n",
       "    <tr>\n",
       "      <th>45</th>\n",
       "      <td>2015-12-01</td>\n",
       "      <td>20462899.30</td>\n",
       "      <td>2.174836e+07</td>\n",
       "    </tr>\n",
       "  </tbody>\n",
       "</table>\n",
       "</div>"
      ],
      "text/plain": [
       "         DATE       Actual  ARIMA Forecast\n",
       "40 2015-07-01  26338477.15    2.677518e+07\n",
       "41 2015-08-01  23130626.60    2.427706e+07\n",
       "42 2015-09-01  20774415.93    2.094802e+07\n",
       "43 2015-10-01  20359980.58    2.183642e+07\n",
       "44 2015-11-01  21936906.81    2.186235e+07\n",
       "45 2015-12-01  20462899.30    2.174836e+07"
      ]
     },
     "execution_count": 345,
     "metadata": {},
     "output_type": "execute_result"
    }
   ],
   "source": [
    "f.rename(columns={0:'ARIMA_P'})"
   ]
  },
  {
   "cell_type": "code",
   "execution_count": 346,
   "metadata": {},
   "outputs": [
    {
     "data": {
      "text/html": [
       "<div>\n",
       "<style scoped>\n",
       "    .dataframe tbody tr th:only-of-type {\n",
       "        vertical-align: middle;\n",
       "    }\n",
       "\n",
       "    .dataframe tbody tr th {\n",
       "        vertical-align: top;\n",
       "    }\n",
       "\n",
       "    .dataframe thead th {\n",
       "        text-align: right;\n",
       "    }\n",
       "</style>\n",
       "<table border=\"1\" class=\"dataframe\">\n",
       "  <thead>\n",
       "    <tr style=\"text-align: right;\">\n",
       "      <th></th>\n",
       "      <th>ETS Forecast</th>\n",
       "    </tr>\n",
       "  </thead>\n",
       "  <tbody>\n",
       "    <tr>\n",
       "      <th>40</th>\n",
       "      <td>2.762835e+07</td>\n",
       "    </tr>\n",
       "    <tr>\n",
       "      <th>41</th>\n",
       "      <td>2.411334e+07</td>\n",
       "    </tr>\n",
       "    <tr>\n",
       "      <th>42</th>\n",
       "      <td>2.141476e+07</td>\n",
       "    </tr>\n",
       "    <tr>\n",
       "      <th>43</th>\n",
       "      <td>2.036366e+07</td>\n",
       "    </tr>\n",
       "    <tr>\n",
       "      <th>44</th>\n",
       "      <td>2.077415e+07</td>\n",
       "    </tr>\n",
       "    <tr>\n",
       "      <th>45</th>\n",
       "      <td>2.077040e+07</td>\n",
       "    </tr>\n",
       "  </tbody>\n",
       "</table>\n",
       "</div>"
      ],
      "text/plain": [
       "    ETS Forecast\n",
       "40  2.762835e+07\n",
       "41  2.411334e+07\n",
       "42  2.141476e+07\n",
       "43  2.036366e+07\n",
       "44  2.077415e+07\n",
       "45  2.077040e+07"
      ]
     },
     "execution_count": 346,
     "metadata": {},
     "output_type": "execute_result"
    }
   ],
   "source": [
    "ETS_p"
   ]
  },
  {
   "cell_type": "code",
   "execution_count": 347,
   "metadata": {},
   "outputs": [],
   "source": [
    "last = f.join(ETS_p)"
   ]
  },
  {
   "cell_type": "code",
   "execution_count": 348,
   "metadata": {},
   "outputs": [],
   "source": [
    "last.to_excel('last.xlsx')"
   ]
  },
  {
   "cell_type": "code",
   "execution_count": 349,
   "metadata": {},
   "outputs": [],
   "source": [
    "last.set_index('DATE', inplace=True)\n"
   ]
  },
  {
   "cell_type": "code",
   "execution_count": 350,
   "metadata": {},
   "outputs": [
    {
     "data": {
      "text/plain": [
       "<matplotlib.axes._subplots.AxesSubplot at 0x1a88ba3b240>"
      ]
     },
     "execution_count": 350,
     "metadata": {},
     "output_type": "execute_result"
    },
    {
     "data": {
      "image/png": "[encoded data removed]",
      "text/plain": [
       "<Figure size 432x288 with 1 Axes>"
      ]
     },
     "metadata": {
      "needs_background": "light"
     },
     "output_type": "display_data"
    }
   ],
   "source": [
    "last.plot()"
   ]
  },
  {
   "cell_type": "code",
   "execution_count": 377,
   "metadata": {},
   "outputs": [],
   "source": [
    "ETS = yh"
   ]
  },
  {
   "cell_type": "code",
   "execution_count": 378,
   "metadata": {},
   "outputs": [],
   "source": [
    "ARIMA = fits"
   ]
  },
  {
   "cell_type": "code",
   "execution_count": null,
   "metadata": {},
   "outputs": [],
   "source": []
  },
  {
   "cell_type": "code",
   "execution_count": 382,
   "metadata": {},
   "outputs": [],
   "source": [
    "holdout = old"
   ]
  },
  {
   "cell_type": "code",
   "execution_count": 383,
   "metadata": {},
   "outputs": [],
   "source": [
    "from sklearn.metrics import r2_score, mean_squared_error, mean_absolute_error,median_absolute_error,mean_absolute_percentage_error"
   ]
  },
  {
   "cell_type": "code",
   "execution_count": 403,
   "metadata": {},
   "outputs": [
    {
     "name": "stdout",
     "output_type": "stream",
     "text": [
      "R2 Score of ETS model\n",
      "0.8306566891760001\n",
      "Mean squared error of ETS model\n",
      "747687668022.8185\n",
      "Mean absolute error of ETS model\n",
      "731146.4472222278\n",
      "Median absolute error of ETS model\n",
      "811530.7199465018\n",
      "mean absolute oercentage error of ETS model\n",
      "0.03174918015147642\n"
     ]
    }
   ],
   "source": [
    "print(\"R2 Score of ETS model\")\n",
    "print(r2_score(holdout, ETS))\n",
    "print(\"Mean squared error of ETS model\")\n",
    "print(mean_squared_error(holdout, ETS))\n",
    "print(\"Mean absolute error of ETS model\")\n",
    "print(mean_absolute_error(holdout,ETS))\n",
    "print(\"Median absolute error of ETS model\")\n",
    "print(median_absolute_error(holdout,ETS ))\n",
    "print(\"mean absolute oercentage error of ETS model\")\n",
    "print(mean_absolute_percentage_error(holdout,ETS))"
   ]
  },
  {
   "cell_type": "code",
   "execution_count": 404,
   "metadata": {},
   "outputs": [
    {
     "name": "stdout",
     "output_type": "stream",
     "text": [
      "R2 Score of ARIMA model\n",
      "0.7971783311582545\n",
      "mean squared error of ARIMA model\n",
      "895501923653.7153\n",
      "mean absolute error of ARIMA model\n",
      "765534.0516247954\n",
      "median absolute error of ARIMA model\n",
      "791567.0489163138\n",
      "mean absolute percentage error of ARIMA model\n",
      "0.035539223653687946\n"
     ]
    }
   ],
   "source": [
    "print(\"R2 Score of ARIMA model\")\n",
    "print(r2_score(holdout, ARIMA))\n",
    "print(\"mean squared error of ARIMA model\")\n",
    "print(mean_squared_error(holdout, ARIMA))\n",
    "print(\"mean absolute error of ARIMA model\")\n",
    "print(mean_absolute_error(holdout,ARIMA))\n",
    "print(\"median absolute error of ARIMA model\")\n",
    "print(median_absolute_error(holdout,ARIMA))\n",
    "print(\"mean absolute percentage error of ARIMA model\")\n",
    "print(mean_absolute_percentage_error(holdout,ARIMA))"
   ]
  },
  {
   "cell_type": "code",
   "execution_count": null,
   "metadata": {},
   "outputs": [],
   "source": []
  },
  {
   "cell_type": "code",
   "execution_count": null,
   "metadata": {},
   "outputs": [],
   "source": []
  },
  {
   "cell_type": "code",
   "execution_count": null,
   "metadata": {},
   "outputs": [],
   "source": []
  },
  {
   "cell_type": "code",
   "execution_count": null,
   "metadata": {},
   "outputs": [],
   "source": []
  },
  {
   "cell_type": "code",
   "execution_count": null,
   "metadata": {},
   "outputs": [],
   "source": []
  },
  {
   "cell_type": "code",
   "execution_count": null,
   "metadata": {},
   "outputs": [],
   "source": []
  },
  {
   "cell_type": "code",
   "execution_count": null,
   "metadata": {},
   "outputs": [],
   "source": []
  },
  {
   "cell_type": "code",
   "execution_count": null,
   "metadata": {},
   "outputs": [],
   "source": []
  },
  {
   "cell_type": "code",
   "execution_count": null,
   "metadata": {},
   "outputs": [],
   "source": []
  },
  {
   "cell_type": "code",
   "execution_count": null,
   "metadata": {},
   "outputs": [],
   "source": []
  },
  {
   "cell_type": "code",
   "execution_count": 352,
   "metadata": {},
   "outputs": [],
   "source": [
    "from RegscorePy import *"
   ]
  },
  {
   "cell_type": "code",
   "execution_count": 405,
   "metadata": {},
   "outputs": [
    {
     "name": "stdout",
     "output_type": "stream",
     "text": [
      "AIC Score of ETS model: 176.04\n",
      "BIC Score of ETS model: 174.12\n",
      "AIC Score of ARIMA model: 177.04\n",
      "AIC Score of ARIMA model: 175.87\n"
     ]
    }
   ],
   "source": [
    "print(\"AIC Score of ETS model: 176.04\")\n",
    "print(\"BIC Score of ETS model: 174.12\")\n",
    "print(\"AIC Score of ARIMA model: 177.04\")\n",
    "print(\"AIC Score of ARIMA model: 175.87\")"
   ]
  },
  {
   "cell_type": "code",
   "execution_count": 355,
   "metadata": {},
   "outputs": [
    {
     "data": {
      "text/plain": [
       "177.12390123947134"
      ]
     },
     "execution_count": 355,
     "metadata": {},
     "output_type": "execute_result"
    }
   ],
   "source": [
    "aic.aic(old['Actual'], fits, p_ahead)"
   ]
  },
  {
   "cell_type": "code",
   "execution_count": 356,
   "metadata": {},
   "outputs": [
    {
     "data": {
      "text/plain": [
       "174.7920638449733"
      ]
     },
     "execution_count": 356,
     "metadata": {},
     "output_type": "execute_result"
    }
   ],
   "source": [
    "bic.bic(old['Actual'], yh, p_ahead)"
   ]
  },
  {
   "cell_type": "code",
   "execution_count": 357,
   "metadata": {},
   "outputs": [
    {
     "data": {
      "text/plain": [
       "175.87445805483966"
      ]
     },
     "execution_count": 357,
     "metadata": {},
     "output_type": "execute_result"
    }
   ],
   "source": [
    "bic.bic(old['Actual'], fits, p_ahead)"
   ]
  },
  {
   "cell_type": "code",
   "execution_count": null,
   "metadata": {},
   "outputs": [],
   "source": []
  },
  {
   "cell_type": "code",
   "execution_count": null,
   "metadata": {},
   "outputs": [],
   "source": [
    "new['forecast']=model_fit.predict(start=20,end=38,dynamic=True)\n",
    "new[['Produce','forecast']].plot(figsize=(12,8))"
   ]
  },
  {
   "cell_type": "code",
   "execution_count": null,
   "metadata": {},
   "outputs": [],
   "source": []
  },
  {
   "cell_type": "code",
   "execution_count": null,
   "metadata": {},
   "outputs": [],
   "source": []
  },
  {
   "cell_type": "code",
   "execution_count": null,
   "metadata": {},
   "outputs": [],
   "source": []
  },
  {
   "cell_type": "code",
   "execution_count": 320,
   "metadata": {},
   "outputs": [
    {
     "data": {
      "text/html": [
       "<div>\n",
       "<style scoped>\n",
       "    .dataframe tbody tr th:only-of-type {\n",
       "        vertical-align: middle;\n",
       "    }\n",
       "\n",
       "    .dataframe tbody tr th {\n",
       "        vertical-align: top;\n",
       "    }\n",
       "\n",
       "    .dataframe thead th {\n",
       "        text-align: right;\n",
       "    }\n",
       "</style>\n",
       "<table border=\"1\" class=\"dataframe\">\n",
       "  <thead>\n",
       "    <tr style=\"text-align: right;\">\n",
       "      <th></th>\n",
       "      <th>Store</th>\n",
       "      <th>Address</th>\n",
       "      <th>City</th>\n",
       "      <th>State</th>\n",
       "      <th>Zip</th>\n",
       "      <th>Type</th>\n",
       "      <th>Year</th>\n",
       "      <th>Total Sale</th>\n",
       "      <th>Ptc_Dry_Grocery</th>\n",
       "      <th>Ptc_Dairy</th>\n",
       "      <th>Ptc_Frozen_Food</th>\n",
       "      <th>Ptc_Meat</th>\n",
       "      <th>Ptc_Produce</th>\n",
       "      <th>Ptc_Floral</th>\n",
       "      <th>Ptc_Deli</th>\n",
       "      <th>Ptc_Bakery</th>\n",
       "      <th>Ptc_General_Merchandise</th>\n",
       "      <th>cluster</th>\n",
       "    </tr>\n",
       "  </thead>\n",
       "  <tbody>\n",
       "    <tr>\n",
       "      <th>80</th>\n",
       "      <td>S0081</td>\n",
       "      <td>24325 Crenshaw Blvd</td>\n",
       "      <td>Torrance</td>\n",
       "      <td>CA</td>\n",
       "      <td>90503</td>\n",
       "      <td>Existing</td>\n",
       "      <td>2015</td>\n",
       "      <td>14701931.83</td>\n",
       "      <td>0.423280</td>\n",
       "      <td>0.102089</td>\n",
       "      <td>0.086592</td>\n",
       "      <td>0.123493</td>\n",
       "      <td>0.116666</td>\n",
       "      <td>0.008475</td>\n",
       "      <td>0.038956</td>\n",
       "      <td>0.042944</td>\n",
       "      <td>0.057506</td>\n",
       "      <td>2</td>\n",
       "    </tr>\n",
       "    <tr>\n",
       "      <th>81</th>\n",
       "      <td>S0082</td>\n",
       "      <td>42170 Big Bear Blvd</td>\n",
       "      <td>Big Bear Lake</td>\n",
       "      <td>CA</td>\n",
       "      <td>92315</td>\n",
       "      <td>Existing</td>\n",
       "      <td>2015</td>\n",
       "      <td>34926733.05</td>\n",
       "      <td>0.460995</td>\n",
       "      <td>0.100760</td>\n",
       "      <td>0.075290</td>\n",
       "      <td>0.113610</td>\n",
       "      <td>0.101490</td>\n",
       "      <td>0.005269</td>\n",
       "      <td>0.048267</td>\n",
       "      <td>0.035212</td>\n",
       "      <td>0.059107</td>\n",
       "      <td>1</td>\n",
       "    </tr>\n",
       "    <tr>\n",
       "      <th>82</th>\n",
       "      <td>S0083</td>\n",
       "      <td>130 W Foothill Blvd</td>\n",
       "      <td>Monrovia</td>\n",
       "      <td>CA</td>\n",
       "      <td>91016</td>\n",
       "      <td>Existing</td>\n",
       "      <td>2015</td>\n",
       "      <td>19002814.15</td>\n",
       "      <td>0.447873</td>\n",
       "      <td>0.108865</td>\n",
       "      <td>0.083793</td>\n",
       "      <td>0.109469</td>\n",
       "      <td>0.117443</td>\n",
       "      <td>0.007097</td>\n",
       "      <td>0.031885</td>\n",
       "      <td>0.025206</td>\n",
       "      <td>0.068370</td>\n",
       "      <td>2</td>\n",
       "    </tr>\n",
       "    <tr>\n",
       "      <th>83</th>\n",
       "      <td>S0084</td>\n",
       "      <td>5500 Woodruff Ave</td>\n",
       "      <td>Lakewood</td>\n",
       "      <td>CA</td>\n",
       "      <td>90713</td>\n",
       "      <td>Existing</td>\n",
       "      <td>2015</td>\n",
       "      <td>21553681.04</td>\n",
       "      <td>0.460306</td>\n",
       "      <td>0.106343</td>\n",
       "      <td>0.094408</td>\n",
       "      <td>0.105936</td>\n",
       "      <td>0.100824</td>\n",
       "      <td>0.006377</td>\n",
       "      <td>0.040150</td>\n",
       "      <td>0.022119</td>\n",
       "      <td>0.063537</td>\n",
       "      <td>1</td>\n",
       "    </tr>\n",
       "    <tr>\n",
       "      <th>84</th>\n",
       "      <td>S0085</td>\n",
       "      <td>561 N Glendale Ave</td>\n",
       "      <td>Glendale</td>\n",
       "      <td>CA</td>\n",
       "      <td>91206</td>\n",
       "      <td>Existing</td>\n",
       "      <td>2015</td>\n",
       "      <td>21552703.64</td>\n",
       "      <td>0.424240</td>\n",
       "      <td>0.112563</td>\n",
       "      <td>0.075257</td>\n",
       "      <td>0.115232</td>\n",
       "      <td>0.125251</td>\n",
       "      <td>0.010635</td>\n",
       "      <td>0.031300</td>\n",
       "      <td>0.036952</td>\n",
       "      <td>0.068570</td>\n",
       "      <td>2</td>\n",
       "    </tr>\n",
       "  </tbody>\n",
       "</table>\n",
       "</div>"
      ],
      "text/plain": [
       "    Store              Address           City State    Zip      Type  Year  \\\n",
       "80  S0081  24325 Crenshaw Blvd       Torrance    CA  90503  Existing  2015   \n",
       "81  S0082  42170 Big Bear Blvd  Big Bear Lake    CA  92315  Existing  2015   \n",
       "82  S0083  130 W Foothill Blvd       Monrovia    CA  91016  Existing  2015   \n",
       "83  S0084    5500 Woodruff Ave       Lakewood    CA  90713  Existing  2015   \n",
       "84  S0085   561 N Glendale Ave       Glendale    CA  91206  Existing  2015   \n",
       "\n",
       "     Total Sale  Ptc_Dry_Grocery  Ptc_Dairy  Ptc_Frozen_Food  Ptc_Meat  \\\n",
       "80  14701931.83         0.423280   0.102089         0.086592  0.123493   \n",
       "81  34926733.05         0.460995   0.100760         0.075290  0.113610   \n",
       "82  19002814.15         0.447873   0.108865         0.083793  0.109469   \n",
       "83  21553681.04         0.460306   0.106343         0.094408  0.105936   \n",
       "84  21552703.64         0.424240   0.112563         0.075257  0.115232   \n",
       "\n",
       "    Ptc_Produce  Ptc_Floral  Ptc_Deli  Ptc_Bakery  Ptc_General_Merchandise  \\\n",
       "80     0.116666    0.008475  0.038956    0.042944                 0.057506   \n",
       "81     0.101490    0.005269  0.048267    0.035212                 0.059107   \n",
       "82     0.117443    0.007097  0.031885    0.025206                 0.068370   \n",
       "83     0.100824    0.006377  0.040150    0.022119                 0.063537   \n",
       "84     0.125251    0.010635  0.031300    0.036952                 0.068570   \n",
       "\n",
       "    cluster  \n",
       "80        2  \n",
       "81        1  \n",
       "82        2  \n",
       "83        1  \n",
       "84        2  "
      ]
     },
     "execution_count": 320,
     "metadata": {},
     "output_type": "execute_result"
    }
   ],
   "source": [
    "fuck = pd.read_excel('clustered1.xlsx')\n",
    "fuck.tail()"
   ]
  },
  {
   "cell_type": "code",
   "execution_count": 321,
   "metadata": {},
   "outputs": [],
   "source": [
    "newfuck = fuck[['Store','cluster']]"
   ]
  },
  {
   "cell_type": "code",
   "execution_count": 322,
   "metadata": {},
   "outputs": [
    {
     "data": {
      "text/html": [
       "<div>\n",
       "<style scoped>\n",
       "    .dataframe tbody tr th:only-of-type {\n",
       "        vertical-align: middle;\n",
       "    }\n",
       "\n",
       "    .dataframe tbody tr th {\n",
       "        vertical-align: top;\n",
       "    }\n",
       "\n",
       "    .dataframe thead th {\n",
       "        text-align: right;\n",
       "    }\n",
       "</style>\n",
       "<table border=\"1\" class=\"dataframe\">\n",
       "  <thead>\n",
       "    <tr style=\"text-align: right;\">\n",
       "      <th></th>\n",
       "      <th>Store</th>\n",
       "      <th>Day</th>\n",
       "      <th>Month</th>\n",
       "      <th>Year</th>\n",
       "      <th>Dry_Grocery</th>\n",
       "      <th>Dairy</th>\n",
       "      <th>Frozen_Food</th>\n",
       "      <th>Meat</th>\n",
       "      <th>Produce</th>\n",
       "      <th>Floral</th>\n",
       "      <th>Deli</th>\n",
       "      <th>Bakery</th>\n",
       "      <th>General_Merchandise</th>\n",
       "    </tr>\n",
       "  </thead>\n",
       "  <tbody>\n",
       "    <tr>\n",
       "      <th>116227</th>\n",
       "      <td>S0085</td>\n",
       "      <td>27</td>\n",
       "      <td>12</td>\n",
       "      <td>2014</td>\n",
       "      <td>19937.84</td>\n",
       "      <td>5832.48</td>\n",
       "      <td>3257.12</td>\n",
       "      <td>4670.09</td>\n",
       "      <td>5068.66</td>\n",
       "      <td>500.45</td>\n",
       "      <td>1512.22</td>\n",
       "      <td>1776.07</td>\n",
       "      <td>2781.86</td>\n",
       "    </tr>\n",
       "    <tr>\n",
       "      <th>116228</th>\n",
       "      <td>S0085</td>\n",
       "      <td>28</td>\n",
       "      <td>12</td>\n",
       "      <td>2014</td>\n",
       "      <td>18328.18</td>\n",
       "      <td>5234.87</td>\n",
       "      <td>3277.48</td>\n",
       "      <td>5531.04</td>\n",
       "      <td>4799.04</td>\n",
       "      <td>150.17</td>\n",
       "      <td>1460.27</td>\n",
       "      <td>1719.40</td>\n",
       "      <td>2113.44</td>\n",
       "    </tr>\n",
       "    <tr>\n",
       "      <th>116229</th>\n",
       "      <td>S0085</td>\n",
       "      <td>29</td>\n",
       "      <td>12</td>\n",
       "      <td>2014</td>\n",
       "      <td>18037.09</td>\n",
       "      <td>5197.56</td>\n",
       "      <td>3282.46</td>\n",
       "      <td>5324.82</td>\n",
       "      <td>4704.44</td>\n",
       "      <td>168.80</td>\n",
       "      <td>1311.87</td>\n",
       "      <td>1797.02</td>\n",
       "      <td>2316.13</td>\n",
       "    </tr>\n",
       "    <tr>\n",
       "      <th>116230</th>\n",
       "      <td>S0085</td>\n",
       "      <td>30</td>\n",
       "      <td>12</td>\n",
       "      <td>2014</td>\n",
       "      <td>22054.98</td>\n",
       "      <td>6416.92</td>\n",
       "      <td>4127.87</td>\n",
       "      <td>7303.82</td>\n",
       "      <td>6298.13</td>\n",
       "      <td>296.88</td>\n",
       "      <td>1956.34</td>\n",
       "      <td>2136.44</td>\n",
       "      <td>1953.44</td>\n",
       "    </tr>\n",
       "    <tr>\n",
       "      <th>116231</th>\n",
       "      <td>S0085</td>\n",
       "      <td>31</td>\n",
       "      <td>12</td>\n",
       "      <td>2014</td>\n",
       "      <td>28148.01</td>\n",
       "      <td>8203.14</td>\n",
       "      <td>4998.97</td>\n",
       "      <td>8781.01</td>\n",
       "      <td>8171.92</td>\n",
       "      <td>626.79</td>\n",
       "      <td>3281.22</td>\n",
       "      <td>3592.13</td>\n",
       "      <td>3123.30</td>\n",
       "    </tr>\n",
       "  </tbody>\n",
       "</table>\n",
       "</div>"
      ],
      "text/plain": [
       "        Store  Day  Month  Year  Dry_Grocery    Dairy  Frozen_Food     Meat  \\\n",
       "116227  S0085   27     12  2014     19937.84  5832.48      3257.12  4670.09   \n",
       "116228  S0085   28     12  2014     18328.18  5234.87      3277.48  5531.04   \n",
       "116229  S0085   29     12  2014     18037.09  5197.56      3282.46  5324.82   \n",
       "116230  S0085   30     12  2014     22054.98  6416.92      4127.87  7303.82   \n",
       "116231  S0085   31     12  2014     28148.01  8203.14      4998.97  8781.01   \n",
       "\n",
       "        Produce  Floral     Deli   Bakery  General_Merchandise  \n",
       "116227  5068.66  500.45  1512.22  1776.07              2781.86  \n",
       "116228  4799.04  150.17  1460.27  1719.40              2113.44  \n",
       "116229  4704.44  168.80  1311.87  1797.02              2316.13  \n",
       "116230  6298.13  296.88  1956.34  2136.44              1953.44  \n",
       "116231  8171.92  626.79  3281.22  3592.13              3123.30  "
      ]
     },
     "execution_count": 322,
     "metadata": {},
     "output_type": "execute_result"
    }
   ],
   "source": [
    "suck  = pd.read_csv('storesalesdata.csv')\n",
    "suck.tail()"
   ]
  },
  {
   "cell_type": "code",
   "execution_count": 323,
   "metadata": {},
   "outputs": [
    {
     "data": {
      "text/html": [
       "<div>\n",
       "<style scoped>\n",
       "    .dataframe tbody tr th:only-of-type {\n",
       "        vertical-align: middle;\n",
       "    }\n",
       "\n",
       "    .dataframe tbody tr th {\n",
       "        vertical-align: top;\n",
       "    }\n",
       "\n",
       "    .dataframe thead th {\n",
       "        text-align: right;\n",
       "    }\n",
       "</style>\n",
       "<table border=\"1\" class=\"dataframe\">\n",
       "  <thead>\n",
       "    <tr style=\"text-align: right;\">\n",
       "      <th></th>\n",
       "      <th>Store</th>\n",
       "      <th>Day</th>\n",
       "      <th>Month</th>\n",
       "      <th>Year</th>\n",
       "      <th>Dry_Grocery</th>\n",
       "      <th>Dairy</th>\n",
       "      <th>Frozen_Food</th>\n",
       "      <th>Meat</th>\n",
       "      <th>Produce</th>\n",
       "      <th>Floral</th>\n",
       "      <th>Deli</th>\n",
       "      <th>Bakery</th>\n",
       "      <th>General_Merchandise</th>\n",
       "      <th>cluster</th>\n",
       "    </tr>\n",
       "  </thead>\n",
       "  <tbody>\n",
       "    <tr>\n",
       "      <th>0</th>\n",
       "      <td>S0001</td>\n",
       "      <td>1</td>\n",
       "      <td>3</td>\n",
       "      <td>2012</td>\n",
       "      <td>23401.06</td>\n",
       "      <td>5567.90</td>\n",
       "      <td>3930.28</td>\n",
       "      <td>5223.61</td>\n",
       "      <td>4542.28</td>\n",
       "      <td>238.58</td>\n",
       "      <td>2608.78</td>\n",
       "      <td>1651.77</td>\n",
       "      <td>4304.79</td>\n",
       "      <td>1</td>\n",
       "    </tr>\n",
       "    <tr>\n",
       "      <th>1</th>\n",
       "      <td>S0001</td>\n",
       "      <td>2</td>\n",
       "      <td>3</td>\n",
       "      <td>2012</td>\n",
       "      <td>32442.93</td>\n",
       "      <td>8009.52</td>\n",
       "      <td>4712.31</td>\n",
       "      <td>6174.72</td>\n",
       "      <td>9503.45</td>\n",
       "      <td>245.29</td>\n",
       "      <td>2692.72</td>\n",
       "      <td>2688.89</td>\n",
       "      <td>4467.51</td>\n",
       "      <td>1</td>\n",
       "    </tr>\n",
       "    <tr>\n",
       "      <th>2</th>\n",
       "      <td>S0001</td>\n",
       "      <td>3</td>\n",
       "      <td>3</td>\n",
       "      <td>2012</td>\n",
       "      <td>40433.61</td>\n",
       "      <td>9759.20</td>\n",
       "      <td>5969.03</td>\n",
       "      <td>8010.67</td>\n",
       "      <td>12793.92</td>\n",
       "      <td>282.12</td>\n",
       "      <td>3493.85</td>\n",
       "      <td>2929.85</td>\n",
       "      <td>5721.60</td>\n",
       "      <td>1</td>\n",
       "    </tr>\n",
       "    <tr>\n",
       "      <th>3</th>\n",
       "      <td>S0001</td>\n",
       "      <td>4</td>\n",
       "      <td>3</td>\n",
       "      <td>2012</td>\n",
       "      <td>57043.39</td>\n",
       "      <td>13966.26</td>\n",
       "      <td>9008.24</td>\n",
       "      <td>13142.55</td>\n",
       "      <td>16635.77</td>\n",
       "      <td>316.72</td>\n",
       "      <td>5618.55</td>\n",
       "      <td>4270.38</td>\n",
       "      <td>8313.11</td>\n",
       "      <td>1</td>\n",
       "    </tr>\n",
       "    <tr>\n",
       "      <th>4</th>\n",
       "      <td>S0001</td>\n",
       "      <td>5</td>\n",
       "      <td>3</td>\n",
       "      <td>2012</td>\n",
       "      <td>32894.86</td>\n",
       "      <td>7870.66</td>\n",
       "      <td>5448.35</td>\n",
       "      <td>5459.29</td>\n",
       "      <td>8358.96</td>\n",
       "      <td>198.00</td>\n",
       "      <td>3339.59</td>\n",
       "      <td>2061.21</td>\n",
       "      <td>5280.16</td>\n",
       "      <td>1</td>\n",
       "    </tr>\n",
       "  </tbody>\n",
       "</table>\n",
       "</div>"
      ],
      "text/plain": [
       "   Store  Day  Month  Year  Dry_Grocery     Dairy  Frozen_Food      Meat  \\\n",
       "0  S0001    1      3  2012     23401.06   5567.90      3930.28   5223.61   \n",
       "1  S0001    2      3  2012     32442.93   8009.52      4712.31   6174.72   \n",
       "2  S0001    3      3  2012     40433.61   9759.20      5969.03   8010.67   \n",
       "3  S0001    4      3  2012     57043.39  13966.26      9008.24  13142.55   \n",
       "4  S0001    5      3  2012     32894.86   7870.66      5448.35   5459.29   \n",
       "\n",
       "    Produce  Floral     Deli   Bakery  General_Merchandise  cluster  \n",
       "0   4542.28  238.58  2608.78  1651.77              4304.79        1  \n",
       "1   9503.45  245.29  2692.72  2688.89              4467.51        1  \n",
       "2  12793.92  282.12  3493.85  2929.85              5721.60        1  \n",
       "3  16635.77  316.72  5618.55  4270.38              8313.11        1  \n",
       "4   8358.96  198.00  3339.59  2061.21              5280.16        1  "
      ]
     },
     "execution_count": 323,
     "metadata": {},
     "output_type": "execute_result"
    }
   ],
   "source": [
    "f = suck.merge(newfuck, on='Store')\n",
    "f.head()"
   ]
  },
  {
   "cell_type": "code",
   "execution_count": 324,
   "metadata": {},
   "outputs": [
    {
     "data": {
      "text/html": [
       "<div>\n",
       "<style scoped>\n",
       "    .dataframe tbody tr th:only-of-type {\n",
       "        vertical-align: middle;\n",
       "    }\n",
       "\n",
       "    .dataframe tbody tr th {\n",
       "        vertical-align: top;\n",
       "    }\n",
       "\n",
       "    .dataframe thead th {\n",
       "        text-align: right;\n",
       "    }\n",
       "</style>\n",
       "<table border=\"1\" class=\"dataframe\">\n",
       "  <thead>\n",
       "    <tr style=\"text-align: right;\">\n",
       "      <th></th>\n",
       "      <th>Store</th>\n",
       "      <th>cluster</th>\n",
       "      <th>Year</th>\n",
       "      <th>Month</th>\n",
       "      <th>Day</th>\n",
       "      <th>Dry_Grocery</th>\n",
       "      <th>Dairy</th>\n",
       "      <th>Frozen_Food</th>\n",
       "      <th>Meat</th>\n",
       "      <th>Produce</th>\n",
       "      <th>Floral</th>\n",
       "      <th>Deli</th>\n",
       "      <th>Bakery</th>\n",
       "      <th>General_Merchandise</th>\n",
       "    </tr>\n",
       "  </thead>\n",
       "  <tbody>\n",
       "    <tr>\n",
       "      <th>0</th>\n",
       "      <td>S0001</td>\n",
       "      <td>1</td>\n",
       "      <td>2012</td>\n",
       "      <td>3</td>\n",
       "      <td>496</td>\n",
       "      <td>1067703.95</td>\n",
       "      <td>233985.14</td>\n",
       "      <td>155166.80</td>\n",
       "      <td>225170.47</td>\n",
       "      <td>225673.98</td>\n",
       "      <td>21675.30</td>\n",
       "      <td>101809.42</td>\n",
       "      <td>77006.78</td>\n",
       "      <td>156945.15</td>\n",
       "    </tr>\n",
       "    <tr>\n",
       "      <th>1</th>\n",
       "      <td>S0001</td>\n",
       "      <td>1</td>\n",
       "      <td>2012</td>\n",
       "      <td>4</td>\n",
       "      <td>465</td>\n",
       "      <td>943879.65</td>\n",
       "      <td>200299.99</td>\n",
       "      <td>155998.34</td>\n",
       "      <td>216787.83</td>\n",
       "      <td>209257.48</td>\n",
       "      <td>9969.36</td>\n",
       "      <td>90967.51</td>\n",
       "      <td>69797.70</td>\n",
       "      <td>146573.55</td>\n",
       "    </tr>\n",
       "    <tr>\n",
       "      <th>2</th>\n",
       "      <td>S0001</td>\n",
       "      <td>1</td>\n",
       "      <td>2012</td>\n",
       "      <td>5</td>\n",
       "      <td>496</td>\n",
       "      <td>986573.32</td>\n",
       "      <td>203033.25</td>\n",
       "      <td>159929.02</td>\n",
       "      <td>226422.54</td>\n",
       "      <td>239711.93</td>\n",
       "      <td>18662.12</td>\n",
       "      <td>94298.67</td>\n",
       "      <td>75046.83</td>\n",
       "      <td>159597.43</td>\n",
       "    </tr>\n",
       "    <tr>\n",
       "      <th>3</th>\n",
       "      <td>S0001</td>\n",
       "      <td>1</td>\n",
       "      <td>2012</td>\n",
       "      <td>6</td>\n",
       "      <td>465</td>\n",
       "      <td>955377.11</td>\n",
       "      <td>190142.23</td>\n",
       "      <td>174658.83</td>\n",
       "      <td>204284.23</td>\n",
       "      <td>249080.61</td>\n",
       "      <td>7745.86</td>\n",
       "      <td>96336.42</td>\n",
       "      <td>70991.65</td>\n",
       "      <td>144022.40</td>\n",
       "    </tr>\n",
       "    <tr>\n",
       "      <th>4</th>\n",
       "      <td>S0001</td>\n",
       "      <td>1</td>\n",
       "      <td>2012</td>\n",
       "      <td>7</td>\n",
       "      <td>496</td>\n",
       "      <td>945024.03</td>\n",
       "      <td>198793.34</td>\n",
       "      <td>165896.02</td>\n",
       "      <td>213794.29</td>\n",
       "      <td>241885.27</td>\n",
       "      <td>7634.52</td>\n",
       "      <td>103923.93</td>\n",
       "      <td>71490.19</td>\n",
       "      <td>149828.89</td>\n",
       "    </tr>\n",
       "  </tbody>\n",
       "</table>\n",
       "</div>"
      ],
      "text/plain": [
       "   Store  cluster  Year  Month  Day  Dry_Grocery      Dairy  Frozen_Food  \\\n",
       "0  S0001        1  2012      3  496   1067703.95  233985.14    155166.80   \n",
       "1  S0001        1  2012      4  465    943879.65  200299.99    155998.34   \n",
       "2  S0001        1  2012      5  496    986573.32  203033.25    159929.02   \n",
       "3  S0001        1  2012      6  465    955377.11  190142.23    174658.83   \n",
       "4  S0001        1  2012      7  496    945024.03  198793.34    165896.02   \n",
       "\n",
       "        Meat    Produce    Floral       Deli    Bakery  General_Merchandise  \n",
       "0  225170.47  225673.98  21675.30  101809.42  77006.78            156945.15  \n",
       "1  216787.83  209257.48   9969.36   90967.51  69797.70            146573.55  \n",
       "2  226422.54  239711.93  18662.12   94298.67  75046.83            159597.43  \n",
       "3  204284.23  249080.61   7745.86   96336.42  70991.65            144022.40  \n",
       "4  213794.29  241885.27   7634.52  103923.93  71490.19            149828.89  "
      ]
     },
     "execution_count": 324,
     "metadata": {},
     "output_type": "execute_result"
    }
   ],
   "source": [
    "nf = f.groupby(['Store', 'cluster','Year','Month'], as_index=False).sum()\n",
    "nf.head()"
   ]
  },
  {
   "cell_type": "code",
   "execution_count": 325,
   "metadata": {},
   "outputs": [
    {
     "data": {
      "text/plain": [
       "(3830, 14)"
      ]
     },
     "execution_count": 325,
     "metadata": {},
     "output_type": "execute_result"
    }
   ],
   "source": [
    "nf.shape"
   ]
  },
  {
   "cell_type": "code",
   "execution_count": 326,
   "metadata": {},
   "outputs": [
    {
     "data": {
      "text/html": [
       "<div>\n",
       "<style scoped>\n",
       "    .dataframe tbody tr th:only-of-type {\n",
       "        vertical-align: middle;\n",
       "    }\n",
       "\n",
       "    .dataframe tbody tr th {\n",
       "        vertical-align: top;\n",
       "    }\n",
       "\n",
       "    .dataframe thead th {\n",
       "        text-align: right;\n",
       "    }\n",
       "</style>\n",
       "<table border=\"1\" class=\"dataframe\">\n",
       "  <thead>\n",
       "    <tr style=\"text-align: right;\">\n",
       "      <th></th>\n",
       "      <th>cluster</th>\n",
       "      <th>Year</th>\n",
       "      <th>Month</th>\n",
       "      <th>Day</th>\n",
       "      <th>Dry_Grocery</th>\n",
       "      <th>Dairy</th>\n",
       "      <th>Frozen_Food</th>\n",
       "      <th>Meat</th>\n",
       "      <th>Produce</th>\n",
       "      <th>Floral</th>\n",
       "      <th>Deli</th>\n",
       "      <th>Bakery</th>\n",
       "      <th>General_Merchandise</th>\n",
       "    </tr>\n",
       "  </thead>\n",
       "  <tbody>\n",
       "    <tr>\n",
       "      <th>0</th>\n",
       "      <td>1</td>\n",
       "      <td>2012</td>\n",
       "      <td>3</td>\n",
       "      <td>496.0</td>\n",
       "      <td>1.308566e+06</td>\n",
       "      <td>280385.796970</td>\n",
       "      <td>199380.829091</td>\n",
       "      <td>294132.433030</td>\n",
       "      <td>283025.337273</td>\n",
       "      <td>26020.112424</td>\n",
       "      <td>106147.173333</td>\n",
       "      <td>70475.252727</td>\n",
       "      <td>187502.207879</td>\n",
       "    </tr>\n",
       "    <tr>\n",
       "      <th>1</th>\n",
       "      <td>1</td>\n",
       "      <td>2012</td>\n",
       "      <td>4</td>\n",
       "      <td>465.0</td>\n",
       "      <td>1.196507e+06</td>\n",
       "      <td>251680.707273</td>\n",
       "      <td>201142.933333</td>\n",
       "      <td>289174.340909</td>\n",
       "      <td>272278.448788</td>\n",
       "      <td>14231.863636</td>\n",
       "      <td>108120.522424</td>\n",
       "      <td>64556.850303</td>\n",
       "      <td>174267.860606</td>\n",
       "    </tr>\n",
       "    <tr>\n",
       "      <th>2</th>\n",
       "      <td>1</td>\n",
       "      <td>2012</td>\n",
       "      <td>5</td>\n",
       "      <td>496.0</td>\n",
       "      <td>1.263487e+06</td>\n",
       "      <td>252858.924848</td>\n",
       "      <td>208467.640606</td>\n",
       "      <td>303986.673636</td>\n",
       "      <td>316019.881818</td>\n",
       "      <td>28143.973030</td>\n",
       "      <td>112785.324848</td>\n",
       "      <td>70970.443030</td>\n",
       "      <td>193009.190606</td>\n",
       "    </tr>\n",
       "    <tr>\n",
       "      <th>3</th>\n",
       "      <td>1</td>\n",
       "      <td>2012</td>\n",
       "      <td>6</td>\n",
       "      <td>465.0</td>\n",
       "      <td>1.201523e+06</td>\n",
       "      <td>237693.775152</td>\n",
       "      <td>215340.721212</td>\n",
       "      <td>284843.447576</td>\n",
       "      <td>317595.568788</td>\n",
       "      <td>13141.320303</td>\n",
       "      <td>115577.376970</td>\n",
       "      <td>69030.511818</td>\n",
       "      <td>182571.317576</td>\n",
       "    </tr>\n",
       "    <tr>\n",
       "      <th>4</th>\n",
       "      <td>1</td>\n",
       "      <td>2012</td>\n",
       "      <td>7</td>\n",
       "      <td>496.0</td>\n",
       "      <td>1.207263e+06</td>\n",
       "      <td>245938.582727</td>\n",
       "      <td>206929.798485</td>\n",
       "      <td>300781.169091</td>\n",
       "      <td>312175.940606</td>\n",
       "      <td>10364.383333</td>\n",
       "      <td>124259.696970</td>\n",
       "      <td>72361.548485</td>\n",
       "      <td>186801.723636</td>\n",
       "    </tr>\n",
       "  </tbody>\n",
       "</table>\n",
       "</div>"
      ],
      "text/plain": [
       "   cluster  Year  Month    Day   Dry_Grocery          Dairy    Frozen_Food  \\\n",
       "0        1  2012      3  496.0  1.308566e+06  280385.796970  199380.829091   \n",
       "1        1  2012      4  465.0  1.196507e+06  251680.707273  201142.933333   \n",
       "2        1  2012      5  496.0  1.263487e+06  252858.924848  208467.640606   \n",
       "3        1  2012      6  465.0  1.201523e+06  237693.775152  215340.721212   \n",
       "4        1  2012      7  496.0  1.207263e+06  245938.582727  206929.798485   \n",
       "\n",
       "            Meat        Produce        Floral           Deli        Bakery  \\\n",
       "0  294132.433030  283025.337273  26020.112424  106147.173333  70475.252727   \n",
       "1  289174.340909  272278.448788  14231.863636  108120.522424  64556.850303   \n",
       "2  303986.673636  316019.881818  28143.973030  112785.324848  70970.443030   \n",
       "3  284843.447576  317595.568788  13141.320303  115577.376970  69030.511818   \n",
       "4  300781.169091  312175.940606  10364.383333  124259.696970  72361.548485   \n",
       "\n",
       "   General_Merchandise  \n",
       "0        187502.207879  \n",
       "1        174267.860606  \n",
       "2        193009.190606  \n",
       "3        182571.317576  \n",
       "4        186801.723636  "
      ]
     },
     "execution_count": 326,
     "metadata": {},
     "output_type": "execute_result"
    }
   ],
   "source": [
    "shit = nf.groupby(['cluster', 'Year','Month'], as_index=False).mean()\n",
    "shit.head()"
   ]
  },
  {
   "cell_type": "code",
   "execution_count": 327,
   "metadata": {},
   "outputs": [
    {
     "data": {
      "text/plain": [
       "(138, 13)"
      ]
     },
     "execution_count": 327,
     "metadata": {},
     "output_type": "execute_result"
    }
   ],
   "source": [
    "shit.shape"
   ]
  },
  {
   "cell_type": "code",
   "execution_count": 328,
   "metadata": {},
   "outputs": [],
   "source": [
    "shit['DATE'] = pd.to_datetime(shit[['Year', 'Month']].assign(DAY=1))\n",
    "shit.drop(['Year','Month'],axis=1,inplace=True)"
   ]
  },
  {
   "cell_type": "code",
   "execution_count": 329,
   "metadata": {},
   "outputs": [],
   "source": [
    "shit.DATE = pd.to_datetime(shit.DATE)"
   ]
  },
  {
   "cell_type": "code",
   "execution_count": 330,
   "metadata": {},
   "outputs": [],
   "source": [
    "new = shit[['DATE','Produce','cluster']]"
   ]
  },
  {
   "cell_type": "code",
   "execution_count": null,
   "metadata": {},
   "outputs": [],
   "source": []
  },
  {
   "cell_type": "code",
   "execution_count": 78,
   "metadata": {},
   "outputs": [],
   "source": [
    "from statsmodels.tsa.holtwinters import ExponentialSmoothing\n",
    "\n",
    "# our guessed parameters\n",
    "alpha = 0.4\n",
    "beta = 0.2\n",
    "gamma = 0.01\n",
    "\n",
    "# initialise model\n",
    "ets_model1 = ExponentialSmoothing(new['Produce'], trend='add', seasonal='add', seasonal_periods=12)\n",
    "#ets_fit = ets_model.fit(smoothing_level=alpha, smoothing_slope=beta, smoothing_seasonal=gamma)\n",
    "ets_fit1 = ets_model1.fit(optimized=True)\n"
   ]
  },
  {
   "cell_type": "code",
   "execution_count": 79,
   "metadata": {},
   "outputs": [],
   "source": [
    "ahead = 6\n",
    "yhh = ets_fit1.forecast(ahead)"
   ]
  },
  {
   "cell_type": "code",
   "execution_count": 80,
   "metadata": {},
   "outputs": [
    {
     "data": {
      "image/png": "[encoded data removed]",
      "text/plain": [
       "<Figure size 432x288 with 1 Axes>"
      ]
     },
     "metadata": {
      "needs_background": "light"
     },
     "output_type": "display_data"
    }
   ],
   "source": [
    "plt.plot(new['Produce'], label='New Sales')\n",
    "plt.plot(ets_fit1.fittedvalues, label='y_smooth')\n",
    "plt.plot(yhh, label='y_hat')\n",
    "plt.legend()\n",
    "plt.show()"
   ]
  },
  {
   "cell_type": "code",
   "execution_count": 81,
   "metadata": {},
   "outputs": [
    {
     "data": {
      "text/plain": [
       "40    2.762835e+07\n",
       "41    2.411334e+07\n",
       "42    2.141476e+07\n",
       "43    2.036366e+07\n",
       "44    2.077415e+07\n",
       "45    2.077040e+07\n",
       "46    2.063475e+07\n",
       "47    1.991113e+07\n",
       "48    2.424331e+07\n",
       "49    2.380952e+07\n",
       "50    2.753090e+07\n",
       "51    2.828441e+07\n",
       "dtype: float64"
      ]
     },
     "execution_count": 81,
     "metadata": {},
     "output_type": "execute_result"
    }
   ],
   "source": [
    "yhh"
   ]
  },
  {
   "cell_type": "code",
   "execution_count": 338,
   "metadata": {},
   "outputs": [
    {
     "data": {
      "text/html": [
       "<div>\n",
       "<style scoped>\n",
       "    .dataframe tbody tr th:only-of-type {\n",
       "        vertical-align: middle;\n",
       "    }\n",
       "\n",
       "    .dataframe tbody tr th {\n",
       "        vertical-align: top;\n",
       "    }\n",
       "\n",
       "    .dataframe thead th {\n",
       "        text-align: right;\n",
       "    }\n",
       "</style>\n",
       "<table border=\"1\" class=\"dataframe\">\n",
       "  <thead>\n",
       "    <tr style=\"text-align: right;\">\n",
       "      <th></th>\n",
       "      <th>DATE</th>\n",
       "      <th>Produce</th>\n",
       "      <th>cluster</th>\n",
       "    </tr>\n",
       "  </thead>\n",
       "  <tbody>\n",
       "    <tr>\n",
       "      <th>133</th>\n",
       "      <td>2015-08-01</td>\n",
       "      <td>313711.103125</td>\n",
       "      <td>3</td>\n",
       "    </tr>\n",
       "    <tr>\n",
       "      <th>134</th>\n",
       "      <td>2015-09-01</td>\n",
       "      <td>282532.060625</td>\n",
       "      <td>3</td>\n",
       "    </tr>\n",
       "    <tr>\n",
       "      <th>135</th>\n",
       "      <td>2015-10-01</td>\n",
       "      <td>269372.215000</td>\n",
       "      <td>3</td>\n",
       "    </tr>\n",
       "    <tr>\n",
       "      <th>136</th>\n",
       "      <td>2015-11-01</td>\n",
       "      <td>295499.451875</td>\n",
       "      <td>3</td>\n",
       "    </tr>\n",
       "    <tr>\n",
       "      <th>137</th>\n",
       "      <td>2015-12-01</td>\n",
       "      <td>278337.060000</td>\n",
       "      <td>3</td>\n",
       "    </tr>\n",
       "  </tbody>\n",
       "</table>\n",
       "</div>"
      ],
      "text/plain": [
       "          DATE        Produce  cluster\n",
       "133 2015-08-01  313711.103125        3\n",
       "134 2015-09-01  282532.060625        3\n",
       "135 2015-10-01  269372.215000        3\n",
       "136 2015-11-01  295499.451875        3\n",
       "137 2015-12-01  278337.060000        3"
      ]
     },
     "execution_count": 338,
     "metadata": {},
     "output_type": "execute_result"
    }
   ],
   "source": [
    "new.tail()"
   ]
  },
  {
   "cell_type": "code",
   "execution_count": 341,
   "metadata": {},
   "outputs": [
    {
     "data": {
      "text/html": [
       "<div>\n",
       "<style scoped>\n",
       "    .dataframe tbody tr th:only-of-type {\n",
       "        vertical-align: middle;\n",
       "    }\n",
       "\n",
       "    .dataframe tbody tr th {\n",
       "        vertical-align: top;\n",
       "    }\n",
       "\n",
       "    .dataframe thead th {\n",
       "        text-align: right;\n",
       "    }\n",
       "</style>\n",
       "<table border=\"1\" class=\"dataframe\">\n",
       "  <thead>\n",
       "    <tr style=\"text-align: right;\">\n",
       "      <th></th>\n",
       "      <th>Produce</th>\n",
       "      <th>cluster</th>\n",
       "    </tr>\n",
       "    <tr>\n",
       "      <th>DATE</th>\n",
       "      <th></th>\n",
       "      <th></th>\n",
       "    </tr>\n",
       "  </thead>\n",
       "  <tbody>\n",
       "    <tr>\n",
       "      <th>2012-03-01</th>\n",
       "      <td>283025.337273</td>\n",
       "      <td>1</td>\n",
       "    </tr>\n",
       "    <tr>\n",
       "      <th>2012-04-01</th>\n",
       "      <td>272278.448788</td>\n",
       "      <td>1</td>\n",
       "    </tr>\n",
       "    <tr>\n",
       "      <th>2012-05-01</th>\n",
       "      <td>316019.881818</td>\n",
       "      <td>1</td>\n",
       "    </tr>\n",
       "    <tr>\n",
       "      <th>2012-06-01</th>\n",
       "      <td>317595.568788</td>\n",
       "      <td>1</td>\n",
       "    </tr>\n",
       "    <tr>\n",
       "      <th>2012-07-01</th>\n",
       "      <td>312175.940606</td>\n",
       "      <td>1</td>\n",
       "    </tr>\n",
       "  </tbody>\n",
       "</table>\n",
       "</div>"
      ],
      "text/plain": [
       "                  Produce  cluster\n",
       "DATE                              \n",
       "2012-03-01  283025.337273        1\n",
       "2012-04-01  272278.448788        1\n",
       "2012-05-01  316019.881818        1\n",
       "2012-06-01  317595.568788        1\n",
       "2012-07-01  312175.940606        1"
      ]
     },
     "execution_count": 341,
     "metadata": {},
     "output_type": "execute_result"
    }
   ],
   "source": [
    "new.set_index('DATE',inplace=True)\n",
    "new.head()"
   ]
  },
  {
   "cell_type": "code",
   "execution_count": 343,
   "metadata": {},
   "outputs": [
    {
     "data": {
      "text/plain": [
       "<matplotlib.axes._subplots.AxesSubplot at 0x1fd8452ec88>"
      ]
     },
     "execution_count": 343,
     "metadata": {},
     "output_type": "execute_result"
    },
    {
     "data": {
      "image/png": "[encoded data removed]",
      "text/plain": [
       "<Figure size 432x288 with 1 Axes>"
      ]
     },
     "metadata": {
      "needs_background": "light"
     },
     "output_type": "display_data"
    }
   ],
   "source": [
    "new.plot()"
   ]
  },
  {
   "cell_type": "code",
   "execution_count": null,
   "metadata": {},
   "outputs": [],
   "source": []
  },
  {
   "cell_type": "code",
   "execution_count": null,
   "metadata": {},
   "outputs": [],
   "source": []
  },
  {
   "cell_type": "code",
   "execution_count": null,
   "metadata": {},
   "outputs": [],
   "source": []
  }
 ],
 "metadata": {
  "kernelspec": {
   "display_name": "Python 3",
   "language": "python",
   "name": "python3"
  },
  "language_info": {
   "codemirror_mode": {
    "name": "ipython",
    "version": 3
   },
   "file_extension": ".py",
   "mimetype": "text/x-python",
   "name": "python",
   "nbconvert_exporter": "python",
   "pygments_lexer": "ipython3",
   "version": "3.7.1"
  }
 },
 "nbformat": 4,
 "nbformat_minor": 2
}
